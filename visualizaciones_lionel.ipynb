{
 "cells": [
  {
   "cell_type": "code",
   "execution_count": 17,
   "metadata": {},
   "outputs": [],
   "source": [
    "import pandas as pd\n",
    "import duckdb\n",
    "import matplotlib.pyplot as plt"
   ]
  },
  {
   "cell_type": "code",
   "execution_count": null,
   "metadata": {},
   "outputs": [],
   "source": [
    "tabla_partidos_suizos = duckdb.sql('''\n",
    "                                   SELECT Temporada, SUM(Goles_local) AS Goles_local, SUM(Goles_visitante) AS Goles_visitante\n",
    "                                   FROM tabla_partidos.csv\n",
    "                                   WHERE ID_liga = 24558 \n",
    "                                   AND CAST(TEMPORADA AS TEXT) IN ('2012/2013','2013/2014','2014/2015','2015/2016')\n",
    "                                   GROUP BY Temporada\n",
    "                                   ORDER BY Temporada\n",
    "                                   ''')\n",
    "tabla_chica_goles = tabla_partidos_suizos.df()\n",
    "tabla_chica_goles"
   ]
  },
  {
   "cell_type": "code",
   "execution_count": 48,
   "metadata": {},
   "outputs": [
    {
     "data": {
      "text/plain": [
       "┌────────────┐\n",
       "│  ID_local  │\n",
       "│   int64    │\n",
       "├────────────┤\n",
       "│       9777 │\n",
       "│      10190 │\n",
       "│       9777 │\n",
       "│      10190 │\n",
       "│      10191 │\n",
       "│       9931 │\n",
       "│      10192 │\n",
       "│      10243 │\n",
       "│       7730 │\n",
       "│       9931 │\n",
       "│         ·  │\n",
       "│         ·  │\n",
       "│         ·  │\n",
       "│       7896 │\n",
       "│      10179 │\n",
       "│       9824 │\n",
       "│      10192 │\n",
       "│      10199 │\n",
       "│       9956 │\n",
       "│      10190 │\n",
       "│       9824 │\n",
       "│      10199 │\n",
       "│       9931 │\n",
       "├────────────┤\n",
       "│  720 rows  │\n",
       "│ (20 shown) │\n",
       "└────────────┘"
      ]
     },
     "execution_count": 48,
     "metadata": {},
     "output_type": "execute_result"
    }
   ],
   "source": [
    "tabla_partidos_suizos = duckdb.sql('''\n",
    "                                   SELECT ID_local\n",
    "                                   FROM tabla_partidos.csv\n",
    "                                   WHERE ID_liga = 24558 \n",
    "                                   AND CAST(TEMPORADA AS TEXT) IN ('2012/2013','2013/2014','2014/2015','2015/2016')\n",
    "                                   \n",
    "                                   ''')\n",
    "tabla_partidos_suizos"
   ]
  },
  {
   "cell_type": "code",
   "execution_count": null,
   "metadata": {},
   "outputs": [],
   "source": [
    "fig, ax = plt.subplots()\n",
    "ax.plot('Temporada', 'Goles_local', data = tabla_chica_goles)\n",
    "ax.plot('Temporada', 'Goles_visitante', data =tabla_chica_goles)"
   ]
  },
  {
   "cell_type": "code",
   "execution_count": 56,
   "metadata": {},
   "outputs": [],
   "source": [
    "goles_por_equipo_local = duckdb.sql('''\n",
    "                               SELECT ID_local AS ID_equipo, Temporada, Goles_local\n",
    "                               FROM tabla_partidos.csv\n",
    "                               WHERE ID_liga = 24558 \n",
    "                               AND CAST(TEMPORADA AS TEXT) IN ('2012/2013','2013/2014','2014/2015','2015/2016')\n",
    "                               ORDER BY ID_local\n",
    "                               ''')\n",
    "goles_por_equipo_visitante = duckdb.sql('''\n",
    "                                        SELECT ID_visitante AS ID_equipo, Temporada, Goles_visitante\n",
    "                                        FROM tabla_partidos.csv\n",
    "                                        WHERE ID_liga = 24558 \n",
    "                                        AND CAST(TEMPORADA AS TEXT) IN ('2012/2013','2013/2014','2014/2015','2015/2016')\n",
    "                                        ORDER BY ID_visitante\n",
    "                                        ''')\n",
    "\n",
    "goles_por_equipo = duckdb.sql('''\n",
    "                              SELECT ID_equipo, Temporada, Goles_local AS Goles\n",
    "                              FROM goles_por_equipo_local\n",
    "                              UNION ALL\n",
    "                              SELECT ID_equipo, Temporada, Goles_visitante\n",
    "                              FROM goles_por_equipo_visitante\n",
    "                              \n",
    "                              ''')\n",
    "#deberian ser 720 partidos y acá me da 216\n",
    "# porque el union me saca los repetidos... pero UNION ALL NO\n",
    "tabla_promedio_gol = duckdb.sql('''\n",
    "                                SELECT ID_equipo, Temporada, AVG(Goles)\n",
    "                                FROM goles_por_equipo\n",
    "                                GROUP BY ID_equipo, Temporada\n",
    "                                ORDER BY ID_equipo, Temporada\n",
    "                                ''')\n",
    "promedios_por_temporada_todos = duckdb.sql('''\n",
    "                                SELECT Temporada, AVG(Goles) AS Promedio_gol\n",
    "                                FROM goles_por_equipo\n",
    "                                GROUP BY Temporada\n",
    "                                ORDER BY  Temporada\n",
    "                                ''')\n",
    "df_promiedos = promedios_por_temporada_todos.df()"
   ]
  },
  {
   "cell_type": "code",
   "execution_count": 57,
   "metadata": {},
   "outputs": [
    {
     "data": {
      "text/plain": [
       "[<matplotlib.lines.Line2D at 0x1999bb38290>]"
      ]
     },
     "execution_count": 57,
     "metadata": {},
     "output_type": "execute_result"
    },
    {
     "data": {
      "image/png": "[encoded data removed]",
      "text/plain": [
       "<Figure size 640x480 with 1 Axes>"
      ]
     },
     "metadata": {},
     "output_type": "display_data"
    }
   ],
   "source": [
    "fig, ax =plt.subplots()\n",
    "ax.plot('Temporada', 'Promedio_gol', data = df_promiedos)"
   ]
  }
 ],
 "metadata": {
  "kernelspec": {
   "display_name": "Python 3",
   "language": "python",
   "name": "python3"
  },
  "language_info": {
   "codemirror_mode": {
    "name": "ipython",
    "version": 3
   },
   "file_extension": ".py",
   "mimetype": "text/x-python",
   "name": "python",
   "nbconvert_exporter": "python",
   "pygments_lexer": "ipython3",
   "version": "3.12.7"
  }
 },
 "nbformat": 4,
 "nbformat_minor": 2
}
