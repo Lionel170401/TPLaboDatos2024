{
 "cells": [
  {
   "cell_type": "code",
   "execution_count": 2,
   "metadata": {},
   "outputs": [
    {
     "name": "stderr",
     "output_type": "stream",
     "text": [
      "C:\\Users\\Lione\\AppData\\Local\\Temp\\ipykernel_10080\\2256573232.py:1: DeprecationWarning: \n",
      "Pyarrow will become a required dependency of pandas in the next major release of pandas (pandas 3.0),\n",
      "(to allow more performant data types, such as the Arrow string type, and better interoperability with other libraries)\n",
      "but was not found to be installed on your system.\n",
      "If this would cause problems for you,\n",
      "please provide us feedback at https://github.com/pandas-dev/pandas/issues/54466\n",
      "        \n",
      "  import pandas as pd\n"
     ]
    }
   ],
   "source": [
    "import pandas as pd\n",
    "import duckdb"
   ]
  },
  {
   "cell_type": "code",
   "execution_count": 3,
   "metadata": {},
   "outputs": [
    {
     "data": {
      "text/plain": [
       "┌───────────┐\n",
       "│ ID_equipo │\n",
       "│   int64   │\n",
       "├───────────┤\n",
       "│      9931 │\n",
       "└───────────┘"
      ]
     },
     "execution_count": 3,
     "metadata": {},
     "output_type": "execute_result"
    }
   ],
   "source": [
    "# EQUIPO CON MAYOR CANTIDAD DE PARTIDOS GANADOS\n",
    "\n",
    "# primero consigo una tabla con todos los partidos que jugó un equipo de local estos años\n",
    "# y luego de esos partidos cuento cuantos ganó\n",
    "ganados_local = duckdb.sql('''\n",
    "                           SELECT ID_equipo_local, Resultado, COUNT(*) AS Ganados_local\n",
    "                           FROM (\n",
    "                                    SELECT ID_local AS ID_equipo_local, \n",
    "                                    CASE WHEN Goles_local > Goles_visitante THEN 'Ganado'\n",
    "                                    WHEN Goles_visitante > Goles_local THEN 'Perdido'\n",
    "                                    ELSE 'Empatado'\n",
    "                                    END AS Resultado\n",
    "                                    FROM tabla_partidos.csv\n",
    "                                    WHERE ID_liga = 24558 AND CAST(TEMPORADA AS TEXT) IN ('2012/2013','2013/2014','2014/2015','2015/2016')\n",
    "                                )\n",
    "                           GROUP BY ID_equipo_local, Resultado\n",
    "                           HAVING Resultado = 'Ganado'\n",
    "                           ORDER BY ID_equipo_local\n",
    "                           ''')\n",
    "# hago lo mismo para visitantes\n",
    "ganados_visitante = duckdb.sql('''\n",
    "                           SELECT ID_equipo_visitante, Resultado, COUNT(*) AS Ganados_visitante\n",
    "                           FROM (\n",
    "                                    SELECT ID_visitante AS ID_equipo_visitante, \n",
    "                                    CASE WHEN Goles_local > Goles_visitante THEN 'Perdido'\n",
    "                                    WHEN Goles_visitante > Goles_local THEN 'Ganado'\n",
    "                                    ELSE 'Empatado'\n",
    "                                    END AS Resultado\n",
    "                                    FROM tabla_partidos.csv\n",
    "                                    WHERE ID_liga = 24558 AND CAST(TEMPORADA AS TEXT) IN ('2012/2013','2013/2014','2014/2015','2015/2016')\n",
    "                                )\n",
    "                           GROUP BY ID_equipo_visitante, Resultado\n",
    "                           HAVING Resultado = 'Ganado'\n",
    "                           ORDER BY ID_equipo_visitante\n",
    "                           ''')\n",
    "\n",
    "# ahora sumo la cantidad total de partidos ganados por los equipos: locales + visitante\n",
    "ganados_totales = duckdb.sql('''\n",
    "                       SELECT ID_equipo_local AS ID_equipo, Ganados_local + Ganados_visitante AS GANADOS\n",
    "                       FROM ganados_local\n",
    "                       INNER JOIN ganados_visitante \n",
    "                       ON ID_equipo_local = ID_equipo_visitante\n",
    "                       ORDER BY GANADOS\n",
    "                       ''')\n",
    "\n",
    "# luego en esos partidos tengo que buscar el que mas ganó, así que necesito esta subquery\n",
    "equipo_mas_ganador = duckdb.sql('''\n",
    "                          SELECT ID_equipo\n",
    "                          FROM ganados_totales\n",
    "                          WHERE GANADOS = (SELECT MAX(GANADOS) AS MAXGANADOS\n",
    "                                            FROM ganados_totales)\n",
    "                          ''')\n",
    "\n",
    "equipo_mas_ganador"
   ]
  },
  {
   "cell_type": "code",
   "execution_count": 4,
   "metadata": {},
   "outputs": [
    {
     "data": {
      "text/plain": [
       "┌───────────┬───────────┬──────────────────┐\n",
       "│ ID_equipo │ Temporada │ Perdidos_totales │\n",
       "│   int64   │  varchar  │      int64       │\n",
       "├───────────┼───────────┼──────────────────┤\n",
       "│      7730 │ 2013/2014 │               26 │\n",
       "│      7896 │ 2015/2016 │               19 │\n",
       "│      9777 │ 2012/2013 │               22 │\n",
       "│      9824 │ 2014/2015 │               19 │\n",
       "└───────────┴───────────┴──────────────────┘"
      ]
     },
     "execution_count": 4,
     "metadata": {},
     "output_type": "execute_result"
    }
   ],
   "source": [
    "#EQUIPO CON MAYOR CANTIDAD DE PARTIDOS PERDIDOS DE CADA AÑO\n",
    "\n",
    "perdidos_local_por_año = duckdb.sql('''\n",
    "                                    SELECT ID_local, Resultado, Temporada, COUNT(*) AS Perdidos_local\n",
    "                                    FROM (\n",
    "                                        SELECT ID_local, \n",
    "                                        CASE WHEN Goles_local > Goles_visitante THEN 'Ganado'\n",
    "                                        WHEN Goles_visitante > Goles_local THEN 'Perdido'\n",
    "                                        ELSE 'Empatado'\n",
    "                                        END AS Resultado, Temporada\n",
    "                                        FROM tabla_partidos.csv\n",
    "                                        WHERE ID_liga = 24558 \n",
    "                                        AND CAST(Temporada AS TEXT) IN ('2012/2013','2013/2014','2014/2015','2015/2016')\n",
    "                                    )\n",
    "                                    GROUP BY ID_local, Resultado, Temporada\n",
    "                                    HAVING Resultado = 'Perdido'\n",
    "                                    ORDER BY ID_local\n",
    "\n",
    "                                    ''')\n",
    "perdidos_visitante_por_año = duckdb.sql('''\n",
    "                                    SELECT ID_visitante, Resultado, Temporada, COUNT(*) AS Perdidos_visitante\n",
    "                                    FROM (\n",
    "                                        SELECT ID_visitante, \n",
    "                                        CASE WHEN Goles_local > Goles_visitante THEN 'Perdido'\n",
    "                                        WHEN Goles_visitante > Goles_local THEN 'Ganado'\n",
    "                                        ELSE 'Empatado'\n",
    "                                        END AS Resultado, Temporada\n",
    "                                        FROM tabla_partidos.csv\n",
    "                                        WHERE ID_liga = 24558 \n",
    "                                        AND CAST(Temporada AS TEXT) IN ('2012/2013','2013/2014','2014/2015','2015/2016')\n",
    "                                    )\n",
    "                                    GROUP BY ID_visitante, Resultado, Temporada\n",
    "                                    HAVING Resultado = 'Perdido'\n",
    "                                    ORDER BY ID_visitante\n",
    "\n",
    "                                    ''')\n",
    "\n",
    "perdidos_totales_por_año = duckdb.sql('''\n",
    "                                      SELECT ID_local AS ID_equipo, perloaño.Temporada, Perdidos_local + Perdidos_visitante AS Perdidos_totales\n",
    "                                      FROM perdidos_local_por_año AS perloaño\n",
    "                                      INNER JOIN perdidos_visitante_por_año AS perviaño\n",
    "                                      ON ID_local = ID_visitante AND perloaño.Temporada = perviaño.Temporada\n",
    "                                      ORDER BY ID_local\n",
    "                                      ''')\n",
    "\n",
    "\n",
    "mayores_perdedores = duckdb.sql('''\n",
    "                                SELECT perdidos1.ID_equipo, perdidos1.Temporada, perdidos1.Perdidos_totales\n",
    "                                FROM perdidos_totales_por_año AS perdidos1\n",
    "                                WHERE perdidos1.Perdidos_totales >= ALL  (\n",
    "                                    SELECT perdidos2.Perdidos_totales\n",
    "                                    FROM perdidos_totales_por_año AS perdidos2\n",
    "                                    WHERE perdidos2.Temporada = perdidos1.Temporada\n",
    "                                \n",
    "                                )\n",
    "                                \n",
    "                                ''')\n",
    "mayores_perdedores"
   ]
  },
  {
   "cell_type": "code",
   "execution_count": 6,
   "metadata": {},
   "outputs": [
    {
     "data": {
      "text/plain": [
       "┌───────────┐\n",
       "│ ID_equipo │\n",
       "│   int64   │\n",
       "├───────────┤\n",
       "│      9824 │\n",
       "└───────────┘"
      ]
     },
     "execution_count": 6,
     "metadata": {},
     "output_type": "execute_result"
    }
   ],
   "source": [
    "# Equipo con mayor cantidad de partidos empatados en el último año: 2015/2016\n",
    "\n",
    "empatados_local = duckdb.sql('''\n",
    "                                    SELECT ID_local, Resultado, COUNT(*) AS Empatados_local\n",
    "                                    FROM (\n",
    "                                        SELECT ID_local, \n",
    "                                        CASE WHEN Goles_local > Goles_visitante THEN 'Ganado'\n",
    "                                        WHEN Goles_visitante > Goles_local THEN 'Perdido'\n",
    "                                        ELSE 'Empatado'\n",
    "                                        END AS Resultado, Temporada\n",
    "                                        FROM tabla_partidos.csv\n",
    "                                        WHERE ID_liga = 24558 \n",
    "                                        AND CAST(Temporada AS TEXT) = '2015/2016'\n",
    "                                    )\n",
    "                                    GROUP BY ID_local, Resultado, Temporada\n",
    "                                    HAVING Resultado = 'Empatado'\n",
    "                                    ORDER BY ID_local\n",
    "\n",
    "                                    ''')\n",
    "empatados_visitante = duckdb.sql('''\n",
    "                                 SELECT ID_visitante, Resultado, COUNT(*) AS Empatados_visitante\n",
    "                                    FROM (\n",
    "                                        SELECT ID_visitante, \n",
    "                                        CASE WHEN Goles_local > Goles_visitante THEN 'Ganado'\n",
    "                                        WHEN Goles_visitante > Goles_local THEN 'Perdido'\n",
    "                                        ELSE 'Empatado'\n",
    "                                        END AS Resultado, Temporada\n",
    "                                        FROM tabla_partidos.csv\n",
    "                                        WHERE ID_liga = 24558 \n",
    "                                        AND CAST(Temporada AS TEXT) = '2015/2016'\n",
    "                                    )\n",
    "                                    GROUP BY ID_visitante, Resultado, Temporada\n",
    "                                    HAVING Resultado = 'Empatado'\n",
    "                                    ORDER BY ID_visitante\n",
    "                                 ''')\n",
    "empatados_totales = duckdb.sql('''\n",
    "                               SELECT ID_local AS ID_equipo, Empatados_local + Empatados_visitante AS Empatados\n",
    "                               FROM empatados_local\n",
    "                               INNER JOIN empatados_visitante\n",
    "                               ON ID_local = ID_visitante\n",
    "                               \n",
    "                               ''')\n",
    "\n",
    "equipo_mas_empatador = duckdb.sql('''\n",
    "                                  SELECT ID_equipo\n",
    "                                  FROM empatados_totales\n",
    "                                  WHERE Empatados = (\n",
    "                                      SELECT MAX(Empatados) AS elmaximo\n",
    "                                      FROM empatados_totales\n",
    "                                  )\n",
    "                                  ''')\n",
    "equipo_mas_empatador"
   ]
  },
  {
   "cell_type": "code",
   "execution_count": 7,
   "metadata": {},
   "outputs": [
    {
     "data": {
      "text/plain": [
       "┌────────────┬───────┐\n",
       "│ ID_Jugador │ Goles │\n",
       "│   int64    │ int64 │\n",
       "├────────────┼───────┤\n",
       "│      34082 │     6 │\n",
       "│      40274 │     6 │\n",
       "└────────────┴───────┘"
      ]
     },
     "execution_count": 7,
     "metadata": {},
     "output_type": "execute_result"
    }
   ],
   "source": [
    "# Cual es el jugador que más goles convirtió?\n",
    "# basicamente hay que contar la cantidad de veces que aparece cada jugador\n",
    "\n",
    "goleador = duckdb.sql('''\n",
    "                      SELECT ID_Jugador, COUNT(*) AS Goles\n",
    "                      FROM (\n",
    "                          SELECT *\n",
    "                          FROM tabla_goles.csv AS g\n",
    "                          WHERE g.ID_Partido IN (\n",
    "                              SELECT ID_Partido\n",
    "                              FROM tabla_partidos.csv\n",
    "                              WHERE ID_liga = 24558 \n",
    "                              AND CAST(Temporada AS TEXT) IN ('2012/2013','2013/2014','2014/2015','2015/2016')\n",
    "                          )\n",
    "                      )\n",
    "                      GROUP BY ID_Jugador\n",
    "                      ''')\n",
    "# no me creo que haya funcionado hacer el in con el where\n",
    "maximo_goleador = duckdb.sql('''\n",
    "                             SELECT ID_Jugador, Goles\n",
    "                             FROM goleador\n",
    "                             WHERE Goles = (\n",
    "                                 SELECT MAX(Goles) AS maximo\n",
    "                                 FROM goleador\n",
    "                             )\n",
    "                             ''')\n",
    "maximo_goleador"
   ]
  }
 ],
 "metadata": {
  "kernelspec": {
   "display_name": "Python 3",
   "language": "python",
   "name": "python3"
  },
  "language_info": {
   "codemirror_mode": {
    "name": "ipython",
    "version": 3
   },
   "file_extension": ".py",
   "mimetype": "text/x-python",
   "name": "python",
   "nbconvert_exporter": "python",
   "pygments_lexer": "ipython3",
   "version": "3.12.7"
  }
 },
 "nbformat": 4,
 "nbformat_minor": 2
}
