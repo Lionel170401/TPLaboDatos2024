{
 "cells": [
  {
   "cell_type": "code",
   "execution_count": 11,
   "metadata": {},
   "outputs": [],
   "source": [
    "import duckdb\n",
    "import pandas as pd\n",
    "import xml.etree.ElementTree as ET"
   ]
  },
  {
   "cell_type": "code",
<<<<<<< Updated upstream
   "execution_count": 7,
=======
   "execution_count": null,
>>>>>>> Stashed changes
   "metadata": {},
   "outputs": [],
   "source": [
    "#tabla paises \n",
    "pais = duckdb.sql('''SELECT name AS Nombre FROM enunciado_paises.csv''')\n",
    "df_pais = pais.df()\n",
    "df_pais.to_csv('tabla_pais.csv', index=False)"
   ]
  },
  {
   "cell_type": "code",
<<<<<<< Updated upstream
   "execution_count": 8,
=======
   "execution_count": null,
>>>>>>> Stashed changes
   "metadata": {},
   "outputs": [],
   "source": [
    "#tabla jugador\n",
    "jugador = duckdb.sql('''SELECT player_api_id AS ID, player_name AS Nombre FROM enunciado_jugadores.csv''')\n",
    "df_jugador = jugador.df()\n",
    "df_jugador.to_csv('tabla_jugador.csv',index=False)"
   ]
  },
  {
   "cell_type": "code",
   "execution_count": 10,
   "metadata": {},
   "outputs": [],
   "source": [
    "#tabla temporada, el id fue creado con pandas\n",
    "temporada = duckdb.sql('''\n",
    "                       SELECT DISTINCT season AS Temporada \n",
    "                       FROM enunciado_partidos.csv\n",
    "                       ''')\n",
    "df_temporada = temporada.df()         # paso el objeto duckdb a df de pandas\n",
    "df_temporada.to_csv('tabla_temporada.csv', index=False)"
   ]
  },
  {
   "cell_type": "code",
<<<<<<< Updated upstream
   "execution_count": 13,
=======
   "execution_count": null,
>>>>>>> Stashed changes
   "metadata": {},
   "outputs": [],
   "source": [
    "# tabla liga, EL ID ESTA MAL, debería ser uno de estos [1,  1729,  4769,  7809, 10257, 13274, 15722, 17642, 19694,21518, 24558]\n",
    "# pero como saber cual es cual? YA SE, gracias al country_id del partido\n",
    "liga = duckdb.sql('''\n",
    "                  SELECT DISTINCT l.name AS Nombre_liga, p.name AS Nombre_pais, part.league_id AS ID\n",
    "                  FROM enunciado_liga.csv AS l\n",
    "                  INNER JOIN enunciado_paises.csv AS p ON l.country_id = p.id\n",
    "                  INNER JOIN enunciado_partidos.csv AS part ON l.country_id = part.country_id\n",
    "                  ''')\n",
    "\n",
    "df_liga = liga.df()\n",
    "df_liga.to_csv('tabla_liga.csv', index=False)\n"
   ]
  },
  {
   "cell_type": "code",
<<<<<<< Updated upstream
   "execution_count": 15,
=======
   "execution_count": 6,
   "metadata": {},
   "outputs": [],
   "source": []
  },
  {
   "cell_type": "code",
   "execution_count": null,
>>>>>>> Stashed changes
   "metadata": {},
   "outputs": [],
   "source": [
    "# Tabla Equipos\n",
    "equipo = duckdb.sql('''\n",
    "                    SELECT DISTINCT eq.team_api_id AS ID_equipo, eq.team_long_name AS Nombre, par.league_id AS ID_liga\n",
    "                    FROM enunciado_equipos.csv AS eq\n",
    "                    INNER JOIN enunciado_partidos.csv AS par \n",
    "                    ON eq.team_api_id = par.home_team_api_id\n",
    "                    ''')\n",
    "\n",
    "df_equipo = equipo.df()\n",
    "#EXPLICACION: basicamente hice el join en base a la liga donde ese equipo jugó de local, podria pasar que no hay jugado de local?\n",
    "# según lo que estuve viendo no, porque me unió a todos los equipos\n",
<<<<<<< Updated upstream
    "df_equipo.to_csv('tabla_equipo.csv', index=False)\n"
   ]
  },
  {
   "cell_type": "code",
   "execution_count": 4,
   "metadata": {},
   "outputs": [],
   "source": [
    "# Tabla Equipos DOBLADA para ver si no tiré cualquiera con el inner join\n",
    "# esta tabla me sirvió para el bloque de código donde veo que todos jugaron de local\n",
    "equipo = duckdb.sql('''\n",
    "                    SELECT DISTINCT eq.team_api_id AS ID_equipo, eq.team_long_name AS Nombre\n",
    "                    FROM enunciado_equipos.csv AS eq\n",
    "                    ''')\n",
    "\n",
    "df_equipo = equipo.df()\n",
    "#EXPLICACION: basicamente hice el join en base a la liga donde ese equipo jugó de local, podria pasar que no hay jugado de local?\n",
    "# según lo que estuve viendo no, porque me unió a todos los equipos\n",
    "df_equipo.to_csv('tabla_equipomm.csv', index=False)"
   ]
  },
  {
   "cell_type": "code",
   "execution_count": null,
   "metadata": {},
   "outputs": [],
   "source": [
    "goleador = duckdb.sql('''\n",
=======
    "df_equipo.to_csv('tabla_equipo', index=False)\n",
    "\n",
    "\n",
    "goles_raw = duckdb.sql('''\n",
>>>>>>> Stashed changes
    "                      SELECT DISTINCT match_api_id AS ID_partido, goal AS Goles\n",
    "                      FROM enunciado_partidos.csv\n",
    "                      ''')\n",
    "\n",
    "df_goles_raw = goles_raw.df().dropna(subset=['Goles'])\n",
    "goles = df_goles_raw[\"Goles\"]\n",
    "#print(f\"Hay {len(goles)} filas\")\n",
    "columna_final = []\n",
    "\n",
    "# Función para convertir XML a diccionario\n",
    "def xml_to_dict(element):\n",
    "        result = {}\n",
    "        if element.tag == \"goal\":\n",
    "            result[\"values\"] = []  # Inicializa la lista de valores\n",
    "            for value in element.findall('value'):\n",
    "                value_dict = xml_to_dict(value)  # Convierte cada valor a dict\n",
    "                result[\"values\"].append(value_dict)  # Agrega el dict a la lista\n",
    "        else:\n",
    "            for child in element:\n",
    "                # Llamar recursivamente si hay más hijos\n",
    "                result[child.tag] = xml_to_dict(child) if len(child) > 0 else child.text\n",
    "        return result\n",
    "\n",
    "different_types = []\n",
    "different_subtypes = []\n",
    "different_goal_types = []\n",
    "different_stats = []\n",
    "\n",
    "for gol in goles:\n",
    "    # Parsear el string XML\n",
    "    root = ET.fromstring(gol)\n",
    "    # Convertir el XML a diccionario\n",
    "    goal_dict = xml_to_dict(root)\n",
    "    try:\n",
    "        stuff = goal_dict[\"values\"][0]\n",
    "        if \"stats\" in stuff.keys():\n",
    "            if stuff[\"stats\"] not in different_stats:\n",
    "                different_stats.append(stuff[\"stats\"])\n",
    "        else:\n",
    "            print(f\"{stuff} doesn't contain stats.\")\n",
    "\n",
    "\n",
    "        if \"subtype\" in stuff.keys():\n",
    "            if stuff[\"subtype\"] not in different_subtypes:\n",
    "                different_subtypes.append(stuff[\"subtype\"])\n",
    "        else:\n",
    "            print(f\"{stuff} doesn't contain subtype.\")\n",
    "\n",
    "        if \"goal_type\" in stuff.keys():\n",
    "            if stuff[\"goal_type\"] not in different_goal_types:\n",
    "                different_goal_types.append(stuff[\"goal_type\"])\n",
    "        else:\n",
    "            print(f\"{stuff} doesn't contain goal_type.\")\n",
    "\n",
    "        # Appendeamos\n",
    "        columna_final.append(goal_dict)\n",
    "    except:\n",
    "        pass\n",
    "    \n",
    "\n",
    "print(f\"types = \\n{different_stats}\\n\\nsubtypes =\\n{different_subtypes}\\n\\ngoal_types =\\n{different_goal_types}\")"
   ]
  },
  {
   "cell_type": "markdown",
   "metadata": {},
   "source": [
    "Ahora que tenemos una lista con un diccionario de goles, transformamos eso en la tabla goles.\n",
    "Tabla que contiene:\n",
    "Id_gol (PK)\n",
    "Id_partido (FK)\n",
    "Id_jugador (FK)\n",
    "tipo_de_gol \n",
    "fue_contragol (True/False)"
   ]
  },
  {
   "cell_type": "code",
   "execution_count": null,
   "metadata": {},
   "outputs": [],
   "source": [
    "\n",
    "tabla_goles = duckdb.sql(''' CREATE TABLE goles(\n",
    "                      id_gol INTEGER PRIMARY KEY,\n",
    "                      id_partido INTEGER,\n",
    "                      id_jugador INTEGER,\n",
    "                      goal_type VARCHAR,\n",
    "                      subtype\n",
    "                      )\n",
    "                      '''\n",
    ")\n",
    "\n",
    "for goles_en_partido in columna_final:\n",
    "    for gol in goles_en_partido['values']:\n",
    "        if \"stats\" in gol.keys():\n",
    "\n",
    "            print(gol)\n",
    "            print(gol['stats'])\n",
    "\n",
    "            id_gol = gol[\"id\"]\n",
    "            id_jugador = gol[\"player1\"]\n",
    "            id_partido = gol[\"player1\"]\n",
    "            goal_type = \"\"\n",
    "            subtype = \"\"\n",
    "            \n",
    "            # goal_type\n",
    "            if \"goals\" in gol[\"\"].keys()\n",
    "\n",
    "\n",
    "            duckdb.sql(f'''INSERT INTO goles\n",
    "                        VALUES ({id_gol}, {id_jugador}, {id_partido}, {goal_type}, {subtype})''')\n",
    "            tabla_goles.insert((id_gol, id_jugador, id_partido, ))\n",
    "                \n",
    "            if gol['stats']['goals'] != 1:\n",
    "                print(f\"Hay {gol['stats']['goals']} goles en una llamada.\")\n"
   ]
  },
  {
   "cell_type": "code",
<<<<<<< Updated upstream
   "execution_count": 18,
=======
   "execution_count": null,
   "metadata": {},
   "outputs": [],
   "source": []
  },
  {
   "cell_type": "code",
   "execution_count": 14,
>>>>>>> Stashed changes
   "metadata": {},
   "outputs": [],
   "source": [
    "# Tabla Partidos\n",
    "partidos = duckdb.sql('''\n",
    "                      SELECT DISTINCT match_api_id AS ID_partido, season AS Temporada, date AS Fecha, home_team_api_id AS ID_local, away_team_api_id AS ID_visitante, home_team_goal AS Goles_local, away_team_goal AS Goles_visitante,\n",
    "                      CASE WHEN home_team_goal > away_team_goal THEN 'Ganado'\n",
    "                      WHEN away_team_goal > home_team_goal THEN 'Perdido'\n",
    "                      ELSE 'Empatado'\n",
    "                      END AS Resultado,\n",
    "                      FROM enunciado_partidos.csv\n",
    "                      ''')\n",
    "partidos = partidos.df()\n",
    "\n",
    "partidos.to_csv('tabla_partidos.csv', index =False)"
   ]
  },
  {
   "cell_type": "code",
   "execution_count": 5,
   "metadata": {},
   "outputs": [
    {
     "data": {
      "text/html": [
       "<div>\n",
       "<style scoped>\n",
       "    .dataframe tbody tr th:only-of-type {\n",
       "        vertical-align: middle;\n",
       "    }\n",
       "\n",
       "    .dataframe tbody tr th {\n",
       "        vertical-align: top;\n",
       "    }\n",
       "\n",
       "    .dataframe thead th {\n",
       "        text-align: right;\n",
       "    }\n",
       "</style>\n",
       "<table border=\"1\" class=\"dataframe\">\n",
       "  <thead>\n",
       "    <tr style=\"text-align: right;\">\n",
       "      <th></th>\n",
       "      <th>ID_equipo</th>\n",
       "    </tr>\n",
       "  </thead>\n",
       "  <tbody>\n",
       "  </tbody>\n",
       "</table>\n",
       "</div>"
      ],
      "text/plain": [
       "Empty DataFrame\n",
       "Columns: [ID_equipo]\n",
       "Index: []"
      ]
     },
     "execution_count": 5,
     "metadata": {},
     "output_type": "execute_result"
    }
   ],
   "source": [
    "# Consulta para chequear que todos los equipos juegan de local\n",
    "todos_juegan_local = duckdb.sql('''\n",
    "                                SELECT ID_equipo\n",
    "                                FROM tabla_equipomm.csv\n",
    "                                EXCEPT\n",
    "                                SELECT ID_local\n",
    "                                FROM tabla_partidos.csv\n",
    "                                ''')\n",
    "si = todos_juegan_local.df()\n",
    "si"
   ]
  },
  {
   "cell_type": "code",
   "execution_count": 20,
   "metadata": {},
   "outputs": [],
   "source": [
    "#Tabla Plantel\n",
    "# Acá hice un cross join, suponiendo que todos los equipos jugaron todas las temporadas... FALSO\n",
    "plantel = duckdb.sql('''\n",
    "                     SELECT DISTINCT Temporada, ID_local AS ID_equipo\n",
    "                     FROM tabla_partidos.csv \n",
    "                     ''')\n",
    "\n",
    "df_plantel = plantel.df()\n",
    "df_plantel['ID_plantel'] = range(0,len(df_plantel),1)\n",
    "df_plantel.to_csv('tabla_plantel.csv', index=False)"
   ]
  },
  {
   "cell_type": "code",
   "execution_count": 22,
   "metadata": {},
   "outputs": [],
   "source": [
    "# Conformación plantel\n",
    "conf_plantel = duckdb.sql('''\n",
    "                          SELECT DISTINCT ID_plantel, home_player_1 AS ID_jugador\n",
    "                          FROM enunciado_partidos.csv, tabla_plantel.csv\n",
    "                          WHERE season = Temporada AND home_team_api_id = ID_equipo\n",
    "                          UNION\n",
    "                          SELECT DISTINCT ID_plantel, home_player_2 AS ID_jugador\n",
    "                          FROM enunciado_partidos.csv, tabla_plantel.csv\n",
    "                          WHERE season = Temporada AND home_team_api_id = ID_equipo\n",
    "                          UNION\n",
    "                          SELECT DISTINCT ID_plantel, home_player_3 AS ID_jugador\n",
    "                          FROM enunciado_partidos.csv, tabla_plantel.csv\n",
    "                          WHERE season = Temporada AND home_team_api_id = ID_equipo\n",
    "                          UNION\n",
    "                          SELECT DISTINCT ID_plantel, home_player_4 AS ID_jugador\n",
    "                          FROM enunciado_partidos.csv, tabla_plantel.csv\n",
    "                          WHERE season = Temporada AND home_team_api_id = ID_equipo\n",
    "                          UNION\n",
    "                          SELECT DISTINCT ID_plantel, home_player_5 AS ID_jugador\n",
    "                          FROM enunciado_partidos.csv, tabla_plantel.csv\n",
    "                          WHERE season = Temporada AND home_team_api_id = ID_equipo\n",
    "                          UNION\n",
    "                          SELECT DISTINCT ID_plantel, home_player_6 AS ID_jugador\n",
    "                          FROM enunciado_partidos.csv, tabla_plantel.csv\n",
    "                          WHERE season = Temporada AND home_team_api_id = ID_equipo\n",
    "                          UNION\n",
    "                          SELECT DISTINCT ID_plantel, home_player_7 AS ID_jugador\n",
    "                          FROM enunciado_partidos.csv, tabla_plantel.csv\n",
    "                          WHERE season = Temporada AND home_team_api_id = ID_equipo\n",
    "                          UNION\n",
    "                          SELECT DISTINCT ID_plantel, home_player_8 AS ID_jugador\n",
    "                          FROM enunciado_partidos.csv, tabla_plantel.csv\n",
    "                          WHERE season = Temporada AND home_team_api_id = ID_equipo\n",
    "                          UNION\n",
    "                          SELECT DISTINCT ID_plantel, home_player_9 AS ID_jugador\n",
    "                          FROM enunciado_partidos.csv, tabla_plantel.csv\n",
    "                          WHERE season = Temporada AND home_team_api_id = ID_equipo\n",
    "                          UNION\n",
    "                          SELECT DISTINCT ID_plantel, home_player_10 AS ID_jugador\n",
    "                          FROM enunciado_partidos.csv, tabla_plantel.csv\n",
    "                          WHERE season = Temporada AND home_team_api_id = ID_equipo\n",
    "                          UNION\n",
    "                          SELECT DISTINCT ID_plantel, home_player_11 AS ID_jugador\n",
    "                          FROM enunciado_partidos.csv, tabla_plantel.csv\n",
    "                          WHERE season = Temporada AND home_team_api_id = ID_equipo\n",
    "                          UNION\n",
    "                          SELECT DISTINCT ID_plantel, away_player_1 AS ID_jugador\n",
    "                          FROM enunciado_partidos.csv, tabla_plantel.csv\n",
    "                          WHERE season = Temporada AND away_team_api_id = ID_equipo\n",
    "                          UNION\n",
    "                          SELECT DISTINCT ID_plantel, away_player_2 AS ID_jugador\n",
    "                          FROM enunciado_partidos.csv, tabla_plantel.csv\n",
    "                          WHERE season = Temporada AND away_team_api_id = ID_equipo\n",
    "                          UNION\n",
    "                          SELECT DISTINCT ID_plantel, away_player_3 AS ID_jugador\n",
    "                          FROM enunciado_partidos.csv, tabla_plantel.csv\n",
    "                          WHERE season = Temporada AND away_team_api_id = ID_equipo\n",
    "                          UNION\n",
    "                          SELECT DISTINCT ID_plantel, away_player_4 AS ID_jugador\n",
    "                          FROM enunciado_partidos.csv, tabla_plantel.csv\n",
    "                          WHERE season = Temporada AND away_team_api_id = ID_equipo\n",
    "                          UNION\n",
    "                          SELECT DISTINCT ID_plantel, away_player_5 AS ID_jugador\n",
    "                          FROM enunciado_partidos.csv, tabla_plantel.csv\n",
    "                          WHERE season = Temporada AND away_team_api_id = ID_equipo\n",
    "                          UNION\n",
    "                          SELECT DISTINCT ID_plantel, away_player_6 AS ID_jugador\n",
    "                          FROM enunciado_partidos.csv, tabla_plantel.csv\n",
    "                          WHERE season = Temporada AND away_team_api_id = ID_equipo\n",
    "                          UNION\n",
    "                          SELECT DISTINCT ID_plantel, away_player_7 AS ID_jugador\n",
    "                          FROM enunciado_partidos.csv, tabla_plantel.csv\n",
    "                          WHERE season = Temporada AND away_team_api_id = ID_equipo\n",
    "                          UNION\n",
    "                          SELECT DISTINCT ID_plantel, away_player_8 AS ID_jugador\n",
    "                          FROM enunciado_partidos.csv, tabla_plantel.csv\n",
    "                          WHERE season = Temporada AND away_team_api_id = ID_equipo\n",
    "                          UNION\n",
    "                          SELECT DISTINCT ID_plantel, away_player_9 AS ID_jugador\n",
    "                          FROM enunciado_partidos.csv, tabla_plantel.csv\n",
    "                          WHERE season = Temporada AND away_team_api_id = ID_equipo\n",
    "                          UNION\n",
    "                          SELECT DISTINCT ID_plantel, away_player_10 AS ID_jugador\n",
    "                          FROM enunciado_partidos.csv, tabla_plantel.csv\n",
    "                          WHERE season = Temporada AND away_team_api_id = ID_equipo\n",
    "                          UNION\n",
    "                          SELECT DISTINCT ID_plantel, away_player_11 AS ID_jugador\n",
    "                          FROM enunciado_partidos.csv, tabla_plantel.csv\n",
    "                          WHERE season = Temporada AND away_team_api_id = ID_equipo\n",
    "                          ''')\n",
    "\n",
    "# una vez que hago todos estos simplemente hago un join y listo\n",
    "conformacion_plantel = conf_plantel.df()\n",
    "conformacion_plantel = conformacion_plantel.dropna(subset=['ID_jugador']) # acá borré los nulls para poder aplicar la funcion para sacar ese id.0 que aparece en todos los jugadores de partidos\n",
    "conformacion_plantel['ID_jugador'] = conformacion_plantel['ID_jugador'].apply(lambda x: int(x)) # saco esos .0\n",
    "conformacion_plantel.to_csv('tabla_conformacion_plantel.csv',index=False)\n",
    "\n",
    "\n",
    "# agarro la tabla plantel y digo: si en partidos coincide el season con id_temporada Y local con equipo SELECT id_plantel con id_home player"
   ]
  }
 ],
 "metadata": {
  "kernelspec": {
   "display_name": "Python 3",
   "language": "python",
   "name": "python3"
  },
  "language_info": {
   "codemirror_mode": {
    "name": "ipython",
    "version": 3
   },
   "file_extension": ".py",
   "mimetype": "text/x-python",
   "name": "python",
   "nbconvert_exporter": "python",
   "pygments_lexer": "ipython3",
   "version": "3.10.0"
  }
 },
 "nbformat": 4,
 "nbformat_minor": 2
}
