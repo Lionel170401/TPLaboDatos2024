{
 "cells": [
  {
   "cell_type": "code",
   "execution_count": 2,
   "metadata": {},
   "outputs": [],
   "source": [
    "import duckdb\n",
    "import pandas as pd"
   ]
  },
  {
   "cell_type": "code",
   "execution_count": 3,
   "metadata": {},
   "outputs": [],
   "source": [
    "#tabla paises \n",
    "pais = duckdb.sql('''SELECT name AS Nombre FROM enunciado_paises.csv''')"
   ]
  },
  {
   "cell_type": "code",
   "execution_count": 6,
   "metadata": {},
   "outputs": [],
   "source": [
    "#tabla jugador\n",
    "jugador = duckdb.sql('''SELECT player_api_id AS ID, player_name AS Nombre FROM enunciado_jugadores.csv''')"
   ]
  },
  {
   "cell_type": "code",
   "execution_count": 24,
   "metadata": {},
   "outputs": [
    {
     "data": {
      "text/html": [
       "<div>\n",
       "<style scoped>\n",
       "    .dataframe tbody tr th:only-of-type {\n",
       "        vertical-align: middle;\n",
       "    }\n",
       "\n",
       "    .dataframe tbody tr th {\n",
       "        vertical-align: top;\n",
       "    }\n",
       "\n",
       "    .dataframe thead th {\n",
       "        text-align: right;\n",
       "    }\n",
       "</style>\n",
       "<table border=\"1\" class=\"dataframe\">\n",
       "  <thead>\n",
       "    <tr style=\"text-align: right;\">\n",
       "      <th></th>\n",
       "      <th>Temporada</th>\n",
       "      <th>Id_temporada</th>\n",
       "    </tr>\n",
       "  </thead>\n",
       "  <tbody>\n",
       "    <tr>\n",
       "      <th>0</th>\n",
       "      <td>2009/2010</td>\n",
       "      <td>8</td>\n",
       "    </tr>\n",
       "    <tr>\n",
       "      <th>1</th>\n",
       "      <td>2012/2013</td>\n",
       "      <td>7</td>\n",
       "    </tr>\n",
       "    <tr>\n",
       "      <th>2</th>\n",
       "      <td>2011/2012</td>\n",
       "      <td>6</td>\n",
       "    </tr>\n",
       "    <tr>\n",
       "      <th>3</th>\n",
       "      <td>2015/2016</td>\n",
       "      <td>5</td>\n",
       "    </tr>\n",
       "    <tr>\n",
       "      <th>4</th>\n",
       "      <td>2013/2014</td>\n",
       "      <td>4</td>\n",
       "    </tr>\n",
       "    <tr>\n",
       "      <th>5</th>\n",
       "      <td>2008/2009</td>\n",
       "      <td>3</td>\n",
       "    </tr>\n",
       "    <tr>\n",
       "      <th>6</th>\n",
       "      <td>2014/2015</td>\n",
       "      <td>2</td>\n",
       "    </tr>\n",
       "    <tr>\n",
       "      <th>7</th>\n",
       "      <td>2010/2011</td>\n",
       "      <td>1</td>\n",
       "    </tr>\n",
       "  </tbody>\n",
       "</table>\n",
       "</div>"
      ],
      "text/plain": [
       "   Temporada  Id_temporada\n",
       "0  2009/2010             8\n",
       "1  2012/2013             7\n",
       "2  2011/2012             6\n",
       "3  2015/2016             5\n",
       "4  2013/2014             4\n",
       "5  2008/2009             3\n",
       "6  2014/2015             2\n",
       "7  2010/2011             1"
      ]
     },
     "execution_count": 24,
     "metadata": {},
     "output_type": "execute_result"
    }
   ],
   "source": [
    "#tabla temporada, el id fue creado con pandas\n",
    "temporada = duckdb.sql('''SELECT DISTINCT season AS Temporada FROM enunciado_partidos.csv''')\n",
    "df_temporada = temporada.df()         # paso el objeto duckdb a df de pandas\n",
    "df_temporada['ID'] = range(len(df_temporada),0,-1) # para cada valor de temporada en la nueva columna pongo ese id\n",
    "df_temporada"
   ]
  },
  {
   "cell_type": "code",
   "execution_count": 32,
   "metadata": {},
   "outputs": [],
   "source": [
    "# tabla liga, EL ID ESTA MAL, debería ser uno de estos [1,  1729,  4769,  7809, 10257, 13274, 15722, 17642, 19694,21518, 24558]\n",
    "# pero como saber cual es cual? YA SE, gracias al country_id del partido\n",
    "liga = duckdb.sql('''\n",
    "                  SELECT DISTINCT l.name AS Nombre_liga, p.name AS Nombre_pais, part.league_id AS ID\n",
    "                  FROM enunciado_liga.csv AS l\n",
    "                  INNER JOIN enunciado_paises.csv AS p ON l.country_id = p.id\n",
    "                  INNER JOIN enunciado_partidos.csv AS part ON l.country_id = part.country_id\n",
    "                  ''')\n",
    "\n",
    "df_liga = liga.df()\n",
    "df_liga.to_csv('ligassssss')\n"
   ]
  },
  {
   "cell_type": "code",
   "execution_count": 31,
   "metadata": {},
   "outputs": [],
   "source": [
    "# Tabla Equipos\n",
    "equipo = duckdb.sql('''\n",
    "                    SELECT DISTINCT eq.team_api_id AS ID_equipo, eq.team_long_name AS Nombre, par.league_id AS ID_liga\n",
    "                    FROM enunciado_equipos.csv AS eq\n",
    "                    INNER JOIN enunciado_partidos.csv AS par ON eq.team_api_id = par.home_team_api_id\n",
    "                    ''')\n",
    "\n",
    "df_equipo = equipo.df()\n",
    "#EXPLICACION: basicamente hice el join en base a la liga donde ese equipo jugó de local, podria pasar que no hay jugado de local?\n",
    "# según lo que estuve viendo no, porque me unió a todos los equipos\n",
    "\n"
   ]
  }
 ],
 "metadata": {
  "kernelspec": {
   "display_name": "Python 3",
   "language": "python",
   "name": "python3"
  },
  "language_info": {
   "codemirror_mode": {
    "name": "ipython",
    "version": 3
   },
   "file_extension": ".py",
   "mimetype": "text/x-python",
   "name": "python",
   "nbconvert_exporter": "python",
   "pygments_lexer": "ipython3",
   "version": "3.12.7"
  }
 },
 "nbformat": 4,
 "nbformat_minor": 2
}
